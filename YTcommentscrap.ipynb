{
  "nbformat": 4,
  "nbformat_minor": 0,
  "metadata": {
    "colab": {
      "provenance": []
    },
    "kernelspec": {
      "name": "python3",
      "display_name": "Python 3"
    },
    "language_info": {
      "name": "python"
    }
  },
  "cells": [
    {
      "cell_type": "code",
      "source": [
        "dev = \"Fill with your YouTube Data API v3 keys\""
      ],
      "metadata": {
        "id": "TQVod6vICn3O"
      },
      "execution_count": 1,
      "outputs": []
    },
    {
      "cell_type": "code",
      "source": [
        "import googleapiclient.discovery\n",
        "import pandas as pd\n",
        "\n",
        "api_service_name = \"youtube\"\n",
        "api_version = \"v3\"\n",
        "DEVELOPER_KEY = dev\n",
        "\n",
        "youtube = googleapiclient.discovery.build(\n",
        "    api_service_name, api_version, developerKey=DEVELOPER_KEY)\n",
        "\n",
        "request = youtube.commentThreads().list(\n",
        "    part=\"snippet\",\n",
        "    videoId=\"fill with video id\",\n",
        "    maxResults=100\n",
        ")\n",
        "\n",
        "comments = []\n",
        "\n",
        "# Execute the request.\n",
        "response = request.execute()\n",
        "\n",
        "# Get the comments from the response.\n",
        "for item in response['items']:\n",
        "    comment = item['snippet']['topLevelComment']['snippet']\n",
        "    public = item['snippet']['isPublic']\n",
        "    comments.append([\n",
        "        comment['authorDisplayName'],\n",
        "        comment['publishedAt'],\n",
        "        comment['likeCount'],\n",
        "        comment['textOriginal'],\n",
        "        public\n",
        "    ])\n",
        "\n",
        "while (1 == 1):\n",
        "  try:\n",
        "   nextPageToken = response['nextPageToken']\n",
        "  except KeyError:\n",
        "   break\n",
        "  nextPageToken = response['nextPageToken']\n",
        "  # Create a new request object with the next page token.\n",
        "  nextRequest = youtube.commentThreads().list(part=\"snippet\", videoId=\"-GJgqIJsTME\", maxResults=100, pageToken=nextPageToken)\n",
        "  # Execute the next request.\n",
        "  response = nextRequest.execute()\n",
        "  # Get the comments from the next response.\n",
        "  for item in response['items']:\n",
        "    comment = item['snippet']['topLevelComment']['snippet']\n",
        "    public = item['snippet']['isPublic']\n",
        "    comments.append([\n",
        "        comment['authorDisplayName'],\n",
        "        comment['publishedAt'],\n",
        "        comment['likeCount'],\n",
        "        comment['textOriginal'],\n",
        "        public\n",
        "    ])\n",
        "\n",
        "df = pd.DataFrame(comments, columns=['author', 'updated_at', 'like_count', 'text','public'])\n",
        "df.info()\n",
        "\n"
      ],
      "metadata": {
        "id": "3BLWdnl0zL1r"
      },
      "execution_count": null,
      "outputs": []
    },
    {
      "cell_type": "code",
      "source": [
        "response['items'][0]\n"
      ],
      "metadata": {
        "id": "kL_zImbX3XnH"
      },
      "execution_count": null,
      "outputs": []
    },
    {
      "cell_type": "code",
      "source": [
        "df.head(10)"
      ],
      "metadata": {
        "id": "ZjfWNAQf7oTl"
      },
      "execution_count": null,
      "outputs": []
    }
  ]
}